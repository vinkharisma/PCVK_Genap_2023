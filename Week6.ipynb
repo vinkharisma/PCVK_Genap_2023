{
  "nbformat": 4,
  "nbformat_minor": 0,
  "metadata": {
    "colab": {
      "provenance": [],
      "authorship_tag": "ABX9TyOXxg1q9yOuQpXMNSzeM24K",
      "include_colab_link": true
    },
    "kernelspec": {
      "name": "python3",
      "display_name": "Python 3"
    },
    "language_info": {
      "name": "python"
    }
  },
  "cells": [
    {
      "cell_type": "markdown",
      "metadata": {
        "id": "view-in-github",
        "colab_type": "text"
      },
      "source": [
        "<a href=\"https://colab.research.google.com/github/vinkharisma/PCVK_Genap_2023/blob/main/Week6.ipynb\" target=\"_parent\"><img src=\"https://colab.research.google.com/assets/colab-badge.svg\" alt=\"Open In Colab\"/></a>"
      ]
    },
    {
      "cell_type": "markdown",
      "source": [
        "# TUGAS PRAKTIKUM"
      ],
      "metadata": {
        "id": "iF5NS6xyA4bL"
      }
    },
    {
      "cell_type": "code",
      "execution_count": 1,
      "metadata": {
        "id": "R9fePsCxAXQ5",
        "outputId": "51a9e0dd-5563-436e-edd1-b04313b17f25",
        "colab": {
          "base_uri": "https://localhost:8080/"
        }
      },
      "outputs": [
        {
          "output_type": "stream",
          "name": "stdout",
          "text": [
            "Mounted at /content/drive\n"
          ]
        }
      ],
      "source": [
        "from google.colab import drive\n",
        "\n",
        "# Accessing My Google Drive\n",
        "drive.mount('/content/drive')"
      ]
    },
    {
      "cell_type": "markdown",
      "source": [
        "2. Import beberapa library berikut yang akan digunakan selama uji coba praktikum minggu ke-6 berikut."
      ],
      "metadata": {
        "id": "Me0U0euNCehF"
      }
    },
    {
      "cell_type": "code",
      "source": [
        "import cv2 as cv\n",
        "from google.colab.patches import cv2_imshow\n",
        "from skimage import io\n",
        "import matplotlib.pyplot as plt\n",
        "import numpy as np\n",
        "import math\n",
        "import os\n",
        "import glob"
      ],
      "metadata": {
        "id": "1Cn1JUBMBFkR"
      },
      "execution_count": 2,
      "outputs": []
    },
    {
      "cell_type": "markdown",
      "source": [
        "3. Buatlah histogram citra seperti output histogram berikut berdasarkan flowchart di\n",
        "bawah ini : (Gunakan gambar lena.jpg)"
      ],
      "metadata": {
        "id": "IritL0JmBTDT"
      }
    },
    {
      "cell_type": "code",
      "source": [],
      "metadata": {
        "id": "VBj4a-l_BXf3"
      },
      "execution_count": null,
      "outputs": []
    },
    {
      "cell_type": "markdown",
      "source": [
        "4. Setelah mengerjakan soal no. 3, buatlah histogram citra yang sama akan tetapi menggunakan library yang dimiliki oleh NumPy yaitu “histogram. Bandingkan hasilnya. Apakah output muncul sama?"
      ],
      "metadata": {
        "id": "jv2eijuvBYR5"
      }
    },
    {
      "cell_type": "code",
      "source": [],
      "metadata": {
        "id": "mLU7zj9hBrqT"
      },
      "execution_count": null,
      "outputs": []
    },
    {
      "cell_type": "markdown",
      "source": [
        "5. Buatlah histogram citra seperti output histogram equalization dan juga tampilan gambar sebelum dan sesudah proses histogram equalization berikut berdasarkan flowchart di bawah ini : (Gunakan gambar lena_lc.jpg)"
      ],
      "metadata": {
        "id": "06herTGSBryS"
      }
    },
    {
      "cell_type": "code",
      "source": [],
      "metadata": {
        "id": "zDxb5hJYBwhe"
      },
      "execution_count": null,
      "outputs": []
    },
    {
      "cell_type": "markdown",
      "source": [
        "6. Setelah mengerjakan soal no. 5, buatlah histogram citra yang sama akan tetapi menggunakan library yang dimiliki oleh CV2 yaitu \"equalizeHist\". Bandingkan hasilnya. Apakah output muncul sama?"
      ],
      "metadata": {
        "id": "bqOmuXdaB1zN"
      }
    },
    {
      "cell_type": "code",
      "source": [],
      "metadata": {
        "id": "zy6FKcNJCB1w"
      },
      "execution_count": null,
      "outputs": []
    },
    {
      "cell_type": "markdown",
      "source": [
        "7. Lakukanlah proses pemetaan 16 juta warna RGB ke dalam 8 warna saja, yaitu hitam, hijau, kuning, biru, cyan, magenta, putih seperti output berikut berdasarkan flowchart di bawah ini! (Gunakan gambar lena.jpg)"
      ],
      "metadata": {
        "id": "kCJj7ptDCB9l"
      }
    },
    {
      "cell_type": "code",
      "source": [],
      "metadata": {
        "id": "8jd5bwsUCJEC"
      },
      "execution_count": null,
      "outputs": []
    },
    {
      "cell_type": "markdown",
      "source": [
        "8. Lakukanlah proses dithering Floyd and Steinberg seperti output berikut (tampilan image awal, dan tampilan setelah dithering) berdasarkan flowchart di bagian bawah halaman modul ini! (Gunakan gambar lena.jpg)"
      ],
      "metadata": {
        "id": "a0lgi-zVCJQA"
      }
    },
    {
      "cell_type": "code",
      "source": [],
      "metadata": {
        "id": "LFbvfFQ4CMBc"
      },
      "execution_count": null,
      "outputs": []
    },
    {
      "cell_type": "markdown",
      "source": [
        "9. Menggunakan lena_lc.jpg rubah menjadi grey image, kemudian terapkan histogram equalization sehingga terjadi perbaikan sebaran warna pada citra. Setelah itu dari hasil histogram equalization implementasikan proses dithering Floyd and Steinberg sehingga\n",
        "menampilkan gambar di bawah ini!"
      ],
      "metadata": {
        "id": "0YwEvpj9CMJK"
      }
    }
  ]
}